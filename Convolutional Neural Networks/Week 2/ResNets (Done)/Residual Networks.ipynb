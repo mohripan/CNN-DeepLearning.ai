{
 "cells": [
  {
   "cell_type": "markdown",
   "metadata": {},
   "source": [
    "# Residual Networks\n",
    "\n",
    "Welcome to the second assignment of this week! You will learn how to build very deep convolutional networks, using Residual Networks (ResNets). In theory, very deep networks can represent very complex functions; but in practice, they are hard to train. Residual Networks, introduced by [He et al.](https://arxiv.org/pdf/1512.03385.pdf), allow you to train much deeper networks than were previously practically feasible.\n",
    "\n",
    "**In this assignment, you will:**\n",
    "- Implement the basic building blocks of ResNets. \n",
    "- Put together these building blocks to implement and train a state-of-the-art neural network for image classification. \n",
    "\n",
    "This assignment will be done in PyTorch. \n",
    "\n",
    "Before jumping into the problem, let's run the cell below to load the required packages."
   ]
  },
  {
   "cell_type": "code",
   "execution_count": 1,
   "metadata": {},
   "outputs": [],
   "source": [
    "import torch\n",
    "import torch.nn as nn\n",
    "import torch.optim as optim\n",
    "from resnets_utils import *\n",
    "\n",
    "from torch.utils.data import DataLoader, sampler, TensorDataset\n",
    "\n",
    "import torchvision.datasets as dset\n",
    "\n",
    "import numpy as np\n",
    "import h5py"
   ]
  },
  {
   "cell_type": "markdown",
   "metadata": {},
   "source": [
    "## 1 - The problem of very deep neural networks\n",
    "\n",
    "Last week, you built your first convolutional neural network. In recent years, neural networks have become deeper, with state-of-the-art networks going from just a few layers (e.g., AlexNet) to over a hundred layers.\n",
    "\n",
    "The main benefit of a very deep network is that it can represent very complex functions. It can also learn features at many different levels of abstraction, from edges (at the lower layers) to very complex features (at the deeper layers). However, using a deeper network doesn't always help. A huge barrier to training them is vanishing gradients: very deep networks often have a gradient signal that goes to zero quickly, thus making gradient descent unbearably slow. More specifically, during gradient descent, as you backprop from the final layer back to the first layer, you are multiplying by the weight matrix on each step, and thus the gradient can decrease exponentially quickly to zero (or, in rare cases, grow exponentially quickly and \"explode\" to take very large values). \n",
    "\n",
    "During training, you might therefore see the magnitude (or norm) of the gradient for the earlier layers descrease to zero very rapidly as training proceeds: "
   ]
  },
  {
   "cell_type": "markdown",
   "metadata": {},
   "source": [
    "<img src=\"images/vanishing_grad_kiank.png\" style=\"width:450px;height:220px;\">\n",
    "<caption><center> <u> <font color='purple'> **Figure 1** </u><font color='purple'>  : **Vanishing gradient** <br> The speed of learning decreases very rapidly for the early layers as the network trains </center></caption>\n",
    "\n",
    "You are now going to solve this problem by building a Residual Network!"
   ]
  },
  {
   "cell_type": "markdown",
   "metadata": {},
   "source": [
    "## 2 - Building a Residual Network\n",
    "\n",
    "In ResNets, a \"shortcut\" or a \"skip connection\" allows the gradient to be directly backpropagated to earlier layers:  \n",
    "\n",
    "<img src=\"images/skip_connection_kiank.png\" style=\"width:650px;height:200px;\">\n",
    "<caption><center> <u> <font color='purple'> **Figure 2** </u><font color='purple'>  : A ResNet block showing a **skip-connection** <br> </center></caption>\n",
    "\n",
    "The image on the left shows the \"main path\" through the network. The image on the right adds a shortcut to the main path. By stacking these ResNet blocks on top of each other, you can form a very deep network. \n",
    "\n",
    "We also saw in lecture that having ResNet blocks with the shortcut also makes it very easy for one of the blocks to learn an identity function. This means that you can stack on additional ResNet blocks with little risk of harming training set performance. (There is also some evidence that the ease of learning an identity function--even more than skip connections helping with vanishing gradients--accounts for ResNets' remarkable performance.)\n",
    "\n",
    "Two main types of blocks are used in a ResNet, depending mainly on whether the input/output dimensions are same or different. You are going to implement both of them. "
   ]
  },
  {
   "cell_type": "markdown",
   "metadata": {},
   "source": [
    "### 2.1 - The identity block\n",
    "\n",
    "The identity block is the standard block used in ResNets, and corresponds to the case where the input activation (say $a^{[l]}$) has the same dimension as the output activation (say $a^{[l+2]}$). To flesh out the different steps of what happens in a ResNet's identity block, here is an alternative diagram showing the individual steps:\n",
    "\n",
    "<img src=\"images/idblock2_kiank.png\" style=\"width:650px;height:150px;\">\n",
    "<caption><center> <u> <font color='purple'> **Figure 3** </u><font color='purple'>  : **Identity block.** Skip connection \"skips over\" 2 layers. </center></caption>\n",
    "\n",
    "The upper path is the \"shortcut path.\" The lower path is the \"main path.\" In this diagram, we have also made explicit the CONV2D and ReLU steps in each layer. To speed up training we have also added a BatchNorm step. Don't worry about this being complicated to implement--you'll see that BatchNorm is just one line of code in Keras! \n",
    "\n",
    "In this exercise, you'll actually implement a slightly more powerful version of this identity block, in which the skip connection \"skips over\" 3 hidden layers rather than 2 layers. It looks like this: \n",
    "\n",
    "<img src=\"images/idblock3_kiank.png\" style=\"width:650px;height:150px;\">\n",
    "<caption><center> <u> <font color='purple'> **Figure 4** </u><font color='purple'>  : **Identity block.** Skip connection \"skips over\" 3 layers.</center></caption>\n",
    "\n",
    "Here're the individual steps.\n",
    "\n",
    "First component of main path: \n",
    "- The first CONV2D has $F_1$ filters of shape (1,1) and a stride of (1,1). Its padding is \"valid\". Use 0 as the seed for the random initialization. \n",
    "- The first BatchNorm is normalizing the channels axis.\n",
    "- Then apply the ReLU activation function. This has no name and no hyperparameters. \n",
    "\n",
    "Second component of main path:\n",
    "- The second CONV2D has $F_2$ filters of shape $(f,f)$ and a stride of (1,1). Its padding is \"same\". Use 0 as the seed for the random initialization. \n",
    "- The second BatchNorm is normalizing the channels axis.\n",
    "- Then apply the ReLU activation function. This has no name and no hyperparameters. \n",
    "\n",
    "Third component of main path:\n",
    "- The third CONV2D has $F_3$ filters of shape (1,1) and a stride of (1,1). Its padding is \"valid\". Use 0 as the seed for the random initialization. \n",
    "- The third BatchNorm is normalizing the channels axis. Note that there is no ReLU activation function in this component. \n",
    "\n",
    "Final step: \n",
    "- The shortcut and the input are added together.\n",
    "- Then apply the ReLU activation function. This has no name and no hyperparameters. \n",
    "\n",
    "**Exercise**: Implement the ResNet identity block. We have implemented the first component of the main path. Please read over this carefully to make sure you understand what it is doing. You should implement the rest. \n",
    "- To implement the Conv2D step: [See reference](https://pytorch.org/docs/stable/nn.html#torch.nn.Conv2d)\n",
    "- To implement BatchNorm: [See reference](https://pytorch.org/docs/stable/nn.html#torch.nn.BatchNorm2d)\n",
    "- For the activation, use: `nn.ReLU()`"
   ]
  },
  {
   "cell_type": "code",
   "execution_count": 2,
   "metadata": {
    "code_folding": [
     0
    ]
   },
   "outputs": [],
   "source": [
    "#identity block doesn't change input sizes and the number of channels. at least in this course.\n",
    "class identity_block(nn.Module):\n",
    "    def __init__(self, filters, in_channels):\n",
    "        super(identity_block, self).__init__()\n",
    "        F1, F2 = filters\n",
    "        #First component of the main path\n",
    "        self.conv2d_1 = nn.Conv2d(in_channels, F1, kernel_size=1) #doesn't change input size\n",
    "        self.bn_1 = nn.BatchNorm2d(F1)\n",
    "        self.relu_1 = nn.ReLU()\n",
    "        \n",
    "        #Second component of the main path\n",
    "        self.conv2d_2 = nn.Conv2d(F1, F2, kernel_size=3, padding=1) #same convolution\n",
    "        self.bn_2 = nn.BatchNorm2d(F2)\n",
    "        self.relu_2 = nn.ReLU()\n",
    "        \n",
    "        #Third component of the main path\n",
    "        #we get back to the original channel size since we assume that the input from the shortcut path and\n",
    "        #from the main path has the same number of channels when we are using an identity block.\n",
    "        self.conv2d_3 = nn.Conv2d(F2, in_channels, kernel_size=1) #doesn't change input size\n",
    "        self.bn_3 = nn.BatchNorm2d(in_channels)\n",
    "        self.relu_3 = nn.ReLU()\n",
    "        \n",
    "    def forward(self, x):\n",
    "        x_shortcut = x\n",
    "        \n",
    "        x = self.conv2d_1(x)\n",
    "        x = self.bn_1(x)\n",
    "        x = self.relu_1(x)\n",
    "        \n",
    "        x = self.conv2d_2(x)\n",
    "        x = self.bn_2(x)\n",
    "        x = self.relu_2(x)\n",
    "        \n",
    "        x = self.conv2d_3(x)\n",
    "        x = self.bn_3(x)\n",
    "        \n",
    "        x += x_shortcut\n",
    "        \n",
    "        x = self.relu_3(x)\n",
    "        \n",
    "        return x"
   ]
  },
  {
   "cell_type": "markdown",
   "metadata": {},
   "source": [
    "## 2.2 - The convolutional block\n",
    "\n",
    "You've implemented the ResNet identity block. Next, the ResNet \"convolutional block\" is the other type of block. You can use this type of block when the input and output dimensions don't match up. The difference with the identity block is that there is a CONV2D layer in the shortcut path: \n",
    "\n",
    "<img src=\"images/convblock_kiank.png\" style=\"width:650px;height:150px;\">\n",
    "<caption><center> <u> <font color='purple'> **Figure 4** </u><font color='purple'>  : **Convolutional block** </center></caption>\n",
    "\n",
    "The CONV2D layer in the shortcut path is used to resize the input $x$ to a different dimension, so that the dimensions match up in the final addition needed to add the shortcut value back to the main path. (This plays a similar role as the matrix $W_s$ discussed in lecture.) For example, to reduce the activation dimensions's height and width by a factor of 2, you can use a 1x1 convolution with a stride of 2. The CONV2D layer on the shortcut path does not use any non-linear activation function. Its main role is to just apply a (learned) linear function that reduces the dimension of the input, so that the dimensions match up for the later addition step. \n",
    "\n",
    "The details of the convolutional block are as follows. \n",
    "\n",
    "First component of main path:\n",
    "- The first CONV2D has $F_1$ filters of shape (1,1) and a stride of (s,s). Its padding is \"valid\". \n",
    "- The first BatchNorm is normalizing the channels axis. \n",
    "- Then apply the ReLU activation function. This has no name and no hyperparameters. \n",
    "\n",
    "Second component of main path:\n",
    "- The second CONV2D has $F_2$ filters of (f,f) and a stride of (1,1). Its padding is \"same\".\n",
    "- The second BatchNorm is normalizing the channels axis.\n",
    "- Then apply the ReLU activation function. This has no name and no hyperparameters. \n",
    "\n",
    "Third component of main path:\n",
    "- The third CONV2D has $F_3$ filters of (1,1) and a stride of (1,1). Its padding is \"valid\".\n",
    "- The third BatchNorm is normalizing the channels axis. Note that there is no ReLU activation function in this component. \n",
    "\n",
    "Shortcut path:\n",
    "- The CONV2D has $F_3$ filters of shape (1,1) and a stride of (s,s). Its padding is \"valid\".\n",
    "- The BatchNorm is normalizing the channels axis.\n",
    "\n",
    "Final step: \n",
    "- The shortcut and the main path values are added together.\n",
    "- Then apply the ReLU activation function. This has no name and no hyperparameters. \n",
    "    \n",
    "**Exercise**: Implement the convolutional block. We have implemented the first component of the main path; you should implement the rest. As before, always use 0 as the seed for the random initialization, to ensure consistency with our grader.\n",
    "- [Conv Hint](https://pytorch.org/docs/stable/nn.html#torch.nn.Conv2d)\n",
    "- [BatchNorm Hint](https://pytorch.org/docs/stable/nn.html#torch.nn.BatchNorm2d)\n",
    "- For the activation, use: `nn.ReLU()`"
   ]
  },
  {
   "cell_type": "code",
   "execution_count": 3,
   "metadata": {
    "code_folding": [
     0
    ]
   },
   "outputs": [],
   "source": [
    "class convolutional_block(nn.Module):\n",
    "    def __init__(self, filters, s, in_channels):\n",
    "        super(convolutional_block, self).__init__()\n",
    "        \n",
    "        F1, F2, F3 = filters\n",
    "        \n",
    "        #First component of the main path\n",
    "        self.conv2d_1 = nn.Conv2d(in_channels, F1, kernel_size=1, stride=s)\n",
    "        self.bn_1 = nn.BatchNorm2d(F1)\n",
    "        self.relu_1 = nn.ReLU()\n",
    "        \n",
    "        #Second component of the main path\n",
    "        self.conv2d_2 = nn.Conv2d(F1, F2, kernel_size=3, padding=1) #3x3 same convolution\n",
    "        self.bn_2 = nn.BatchNorm2d(F2)\n",
    "        self.relu_2 = nn.ReLU()\n",
    "        \n",
    "        #Third component of the main path\n",
    "        self.conv2d_3 = nn.Conv2d(F2, F3, kernel_size=1)\n",
    "        self.bn_3 = nn.BatchNorm2d(F3)\n",
    "        \n",
    "        #Shortcut path\n",
    "        #After this, input sizes and the number of channels will match. Because this convolution applies the only \n",
    "        #transformation that affects the input size, the key point here is stride=s. It's output channels is equal\n",
    "        #to the number of output channels of the main path. \n",
    "        self.conv2d_shortcut = nn.Conv2d(in_channels, F3, kernel_size=1, stride=s)\n",
    "        self.bn_shortcut = nn.BatchNorm2d(F3)\n",
    "        \n",
    "        self.relu_3 = nn.ReLU()\n",
    "        \n",
    "    def forward(self, x):\n",
    "        x_shortcut = x\n",
    "        \n",
    "        x = self.conv2d_1(x)\n",
    "        x = self.bn_1(x)\n",
    "        x = self.relu_1(x)\n",
    "        \n",
    "        x = self.conv2d_2(x)\n",
    "        x = self.bn_2(x)\n",
    "        x = self.relu_2(x)\n",
    "        \n",
    "        x = self.conv2d_3(x)\n",
    "        x = self.bn_3(x)\n",
    "        \n",
    "        x_shortcut = self.conv2d_shortcut(x_shortcut)\n",
    "        x_shortcut = self.bn_shortcut(x_shortcut)\n",
    "        \n",
    "        x += x_shortcut\n",
    "        x = self.relu_3(x)\n",
    "        \n",
    "        return x"
   ]
  },
  {
   "cell_type": "code",
   "execution_count": 4,
   "metadata": {},
   "outputs": [],
   "source": [
    "num_classes = 6\n",
    "device = torch.device('cuda:0' if torch.cuda.is_available() else 'cpu')"
   ]
  },
  {
   "cell_type": "markdown",
   "metadata": {},
   "source": [
    "## 3 - Building your first ResNet model (50 layers)\n",
    "\n",
    "You now have the necessary blocks to build a very deep ResNet. The following figure describes in detail the architecture of this neural network. \"ID BLOCK\" in the diagram stands for \"Identity block,\" and \"ID BLOCK x3\" means you should stack 3 identity blocks together.\n",
    "\n",
    "<img src=\"images/resnet_kiank.png\" style=\"width:850px;height:150px;\">\n",
    "<caption><center> <u> <font color='purple'> **Figure 5** </u><font color='purple'>  : **ResNet-50 model** </center></caption>\n",
    "\n",
    "The details of this ResNet-50 model are:\n",
    "- Zero-padding pads the input with a pad of (3,3)\n",
    "- Stage 1:\n",
    "    - The 2D Convolution has 64 filters of shape (7,7) and uses a stride of (2,2).\n",
    "    - BatchNorm is applied to the channels axis of the input.\n",
    "    - MaxPooling uses a (3,3) window and a (2,2) stride.\n",
    "- Stage 2:\n",
    "    - The convolutional block uses three set of filters of size [64,64,256], \"f\" is 3, \"s\" is 1.\n",
    "    - The 2 identity blocks use three set of filters of size [64,64,256], \"f\" is 3.\n",
    "- Stage 3:\n",
    "    - The convolutional block uses three set of filters of size [128,128,512], \"f\" is 3, \"s\" is 2.\n",
    "    - The 3 identity blocks use three set of filters of size [128,128,512], \"f\" is 3.\n",
    "- Stage 4:\n",
    "    - The convolutional block uses three set of filters of size [256, 256, 1024], \"f\" is 3, \"s\" is 2.\n",
    "    - The 5 identity blocks use three set of filters of size [256, 256, 1024], \"f\" is 3.\n",
    "- Stage 5:\n",
    "    - The convolutional block uses three set of filters of size [512, 512, 2048], \"f\" is 3, \"s\" is 2.\n",
    "    - The 2 identity blocks use three set of filters of size [512, 512, 2048], \"f\" is 3.\n",
    "- The 2D Average Pooling uses a window of shape (2,2).\n",
    "- The flatten doesn't have any hyperparameters.\n",
    "- The Fully Connected (Dense) layer reduces its input to the number of classes using a softmax activation.\n",
    "\n",
    "**Exercise**: Implement the ResNet with 50 layers described in the figure above. We have implemented Stages 1 and 2. Please implement the rest. (The syntax for implementing Stages 3-5 should be quite similar to that of Stage 2.) Make sure you follow the naming convention in the text above. "
   ]
  },
  {
   "cell_type": "code",
   "execution_count": 5,
   "metadata": {
    "code_folding": [
     0
    ]
   },
   "outputs": [],
   "source": [
    "ResNet50 = nn.Sequential(\n",
    "    nn.ConstantPad2d(3, 0),\n",
    "    #---\n",
    "    #Stage 1\n",
    "    nn.Conv2d(3, 64, kernel_size=7, stride=2),\n",
    "    nn.BatchNorm2d(64),\n",
    "    nn.MaxPool2d(kernel_size=3, stride=2),\n",
    "    #Stage 2\n",
    "    convolutional_block([64, 64, 256], s=1, in_channels=64),\n",
    "    identity_block([64, 64], in_channels=256),\n",
    "    identity_block([64, 64], in_channels=256),\n",
    "    #Stage 3\n",
    "    convolutional_block([128, 128, 512], s=2, in_channels=256),\n",
    "    identity_block([128, 128], in_channels=512),\n",
    "    identity_block([128, 128], in_channels=512),\n",
    "    identity_block([128, 128], in_channels=512),\n",
    "    #Stage 4\n",
    "    convolutional_block([256, 256, 1024], s=2, in_channels=512),\n",
    "    identity_block([256, 256], in_channels=1024),\n",
    "    identity_block([256, 256], in_channels=1024),\n",
    "    identity_block([256, 256], in_channels=1024),\n",
    "    identity_block([256, 256], in_channels=1024),\n",
    "    identity_block([256, 256], in_channels=1024),\n",
    "    #Stage 5\n",
    "    convolutional_block([512, 512, 2048], s=2, in_channels=1024),\n",
    "    identity_block([512, 512], in_channels=2048),\n",
    "    identity_block([512, 512], in_channels=2048),\n",
    "    #---\n",
    "    nn.AvgPool2d(kernel_size=2), #outputs 1x1x2048\n",
    "    nn.Flatten(),\n",
    "    nn.Linear(2048, num_classes)\n",
    ").to(device)"
   ]
  },
  {
   "cell_type": "code",
   "execution_count": 6,
   "metadata": {},
   "outputs": [],
   "source": [
    "loss_fn = nn.CrossEntropyLoss()\n",
    "optimizer = optim.Adam(ResNet50.parameters(), lr=1e-3)"
   ]
  },
  {
   "cell_type": "markdown",
   "metadata": {},
   "source": [
    "The model is now ready to be trained. The only thing you need is a dataset."
   ]
  },
  {
   "cell_type": "markdown",
   "metadata": {},
   "source": [
    "Let's load the SIGNS Dataset.\n",
    "\n",
    "<img src=\"images/signs_data_kiank.png\" style=\"width:450px;height:250px;\">\n",
    "<caption><center> <u> <font color='purple'> **Figure 6** </u><font color='purple'>  : **SIGNS dataset** </center></caption>\n"
   ]
  },
  {
   "cell_type": "code",
   "execution_count": 7,
   "metadata": {},
   "outputs": [
    {
     "name": "stdout",
     "output_type": "stream",
     "text": [
      "number of training examples = 1080\n",
      "number of test examples = 120\n",
      "X_train shape: (1080, 3, 64, 64)\n",
      "Y_train shape: (1080,)\n",
      "X_test shape: (120, 3, 64, 64)\n",
      "Y_test shape: (120,)\n"
     ]
    }
   ],
   "source": [
    "X_train_orig, Y_train, X_test_orig, Y_test, classes = load_dataset()\n",
    "\n",
    "#swap axes to make them usable by PyTorch\n",
    "X_train_orig = np.transpose(X_train_orig, (0, 3, 1, 2))\n",
    "X_test_orig = np.transpose(X_test_orig, (0, 3, 1, 2))\n",
    "\n",
    "Y_train = Y_train.ravel()\n",
    "Y_test = Y_test.ravel()\n",
    "\n",
    "# Normalize image vectors\n",
    "X_train = X_train_orig/255.\n",
    "X_test = X_test_orig/255.\n",
    "\n",
    "print (\"number of training examples = \" + str(X_train.shape[0]))\n",
    "print (\"number of test examples = \" + str(X_test.shape[0]))\n",
    "print (\"X_train shape: \" + str(X_train.shape))\n",
    "print (\"Y_train shape: \" + str(Y_train.shape))\n",
    "print (\"X_test shape: \" + str(X_test.shape))\n",
    "print (\"Y_test shape: \" + str(Y_test.shape))"
   ]
  },
  {
   "cell_type": "code",
   "execution_count": 8,
   "metadata": {},
   "outputs": [],
   "source": [
    "num_train = 1080\n",
    "num_test = 120\n",
    "X_train_tensor = torch.tensor(X_train, dtype=torch.float32)\n",
    "Y_train_tensor = torch.tensor(Y_train, dtype=torch.long)\n",
    "\n",
    "X_test_tensor = torch.tensor(X_test, dtype=torch.float32)\n",
    "Y_test_tensor = torch.tensor(Y_test, dtype=torch.long)\n",
    "\n",
    "\n",
    "train_dataset = TensorDataset(X_train_tensor, Y_train_tensor)\n",
    "test_dataset = TensorDataset(X_test_tensor, Y_test_tensor)"
   ]
  },
  {
   "cell_type": "code",
   "execution_count": 9,
   "metadata": {},
   "outputs": [],
   "source": [
    "loader_train = DataLoader(train_dataset, batch_size=32, shuffle=True)\n",
    "loader_test = DataLoader(test_dataset, batch_size=32, shuffle=True)"
   ]
  },
  {
   "cell_type": "code",
   "execution_count": 10,
   "metadata": {
    "code_folding": []
   },
   "outputs": [],
   "source": [
    "def get_accuracy(model, loader_test):\n",
    "    model.eval()\n",
    "    num_samples, num_correct = 0, 0\n",
    "    with torch.no_grad():\n",
    "        for x, y in loader_test:\n",
    "            x, y = x.to(device), y.to(device)\n",
    "            output = model(x)\n",
    "            _, y_pred = output.data.max(1)\n",
    "            num_correct += (y_pred == y).sum().item()\n",
    "            num_samples += x.size(0)\n",
    "            \n",
    "    return num_correct/num_samples\n",
    "    \n",
    "def train(model, loss_fn, optimizer, loader_train, loader_test, epochs=1):\n",
    "    for epoch in range(epochs):\n",
    "        model.train()\n",
    "        for i, (x, y) in enumerate(loader_train):\n",
    "            x, y = x.to(device), y.to(device)\n",
    "            y_pred = model(x)\n",
    "            \n",
    "            optimizer.zero_grad()\n",
    "            loss = loss_fn(y_pred, y)\n",
    "            loss.backward()\n",
    "            \n",
    "            optimizer.step()\n",
    "        acc = get_accuracy(model, loader_test)\n",
    "        print(f\"Epoch: {epoch+1} | Loss: {loss.item()} | Test accuracy: {acc}\")"
   ]
  },
  {
   "cell_type": "code",
   "execution_count": 11,
   "metadata": {},
   "outputs": [
    {
     "name": "stdout",
     "output_type": "stream",
     "text": [
      "Epoch: 1 | Loss: 0.41263318061828613 | Test accuracy: 0.30833333333333335\n",
      "Epoch: 2 | Loss: 0.4383068382740021 | Test accuracy: 0.8166666666666667\n",
      "Epoch: 3 | Loss: 0.32723379135131836 | Test accuracy: 0.85\n"
     ]
    }
   ],
   "source": [
    "train(ResNet50, loss_fn, optimizer, loader_train, loader_test, epochs=3)"
   ]
  }
 ],
 "metadata": {
  "kernelspec": {
   "display_name": "pytorch-1.7",
   "language": "python",
   "name": "pytorch-1.7"
  },
  "language_info": {
   "codemirror_mode": {
    "name": "ipython",
    "version": 3
   },
   "file_extension": ".py",
   "mimetype": "text/x-python",
   "name": "python",
   "nbconvert_exporter": "python",
   "pygments_lexer": "ipython3",
   "version": "3.8.3"
  },
  "varInspector": {
   "cols": {
    "lenName": 16,
    "lenType": 16,
    "lenVar": 40
   },
   "kernels_config": {
    "python": {
     "delete_cmd_postfix": "",
     "delete_cmd_prefix": "del ",
     "library": "var_list.py",
     "varRefreshCmd": "print(var_dic_list())"
    },
    "r": {
     "delete_cmd_postfix": ") ",
     "delete_cmd_prefix": "rm(",
     "library": "var_list.r",
     "varRefreshCmd": "cat(var_dic_list()) "
    }
   },
   "position": {
    "height": "601px",
    "left": "1175.83px",
    "right": "17.6667px",
    "top": "120px",
    "width": "352px"
   },
   "types_to_exclude": [
    "module",
    "function",
    "builtin_function_or_method",
    "instance",
    "_Feature"
   ],
   "window_display": false
  }
 },
 "nbformat": 4,
 "nbformat_minor": 2
}
